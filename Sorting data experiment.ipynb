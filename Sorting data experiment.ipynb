{
 "cells": [
  {
   "cell_type": "code",
   "execution_count": 1,
   "id": "461c058f",
   "metadata": {},
   "outputs": [],
   "source": [
    "import pandas as pd\n",
    "import time\n",
    "import psutil\n",
    "import numpy as np\n",
    "import warnings\n",
    "warnings.filterwarnings(\"ignore\")\n",
    "np.random.seed(123)"
   ]
  },
  {
   "cell_type": "code",
   "execution_count": 2,
   "id": "98d8b89e",
   "metadata": {},
   "outputs": [],
   "source": [
    "# Function to measure time and memory usage\n",
    "def measure_sorting_performance(algorithm, df):\n",
    "    \n",
    "    start_time = time.time()\n",
    "    start_memory = psutil.Process().memory_info().rss / 1024  # in kilobytes\n",
    "    \n",
    "    algorithm(df)\n",
    "    \n",
    "    end_time = time.time()\n",
    "    end_memory = psutil.Process().memory_info().rss / 1024  # in kilobytes\n",
    "    \n",
    "    # Calculate time and memory usage\n",
    "    execution_time = end_time - start_time\n",
    "    memory_usage = abs(end_memory - start_memory)\n",
    "\n",
    "    # Output results\n",
    "     #print(f\"Execution Time: {execution_time} seconds\")\n",
    "     #print(f\"Memory Usage: {memory_usage} KB\\n\")\n",
    "    return execution_time, memory_usage"
   ]
  },
  {
   "cell_type": "code",
   "execution_count": 3,
   "id": "80c14fa1",
   "metadata": {},
   "outputs": [],
   "source": [
    "# Merge Sort implementation for sorting DataFrame by rows\n",
    "def merge_sort(df):\n",
    "    if len(df) <= 1:\n",
    "        return df\n",
    "\n",
    "    mid = len(df) // 2\n",
    "    left = df.iloc[:mid, :]\n",
    "    right = df.iloc[mid:, :]\n",
    "\n",
    "    left = merge_sort(left)\n",
    "    right = merge_sort(right)\n",
    "\n",
    "    return merge(left, right)\n",
    "\n",
    "def merge(left, right):\n",
    "    result = pd.DataFrame()\n",
    "\n",
    "    i, j = 0, 0\n",
    "\n",
    "    while i < len(left) and j < len(right):\n",
    "        if left.iloc[i, 0] < right.iloc[j, 0]:\n",
    "            result = pd.concat([result, left.iloc[[i]]], ignore_index=True)\n",
    "            i += 1\n",
    "        else:\n",
    "            result = pd.concat([result, right.iloc[[j]]], ignore_index=True)\n",
    "            j += 1\n",
    "\n",
    "    while i < len(left):\n",
    "        result = pd.concat([result, left.iloc[[i]]], ignore_index=True)\n",
    "        i += 1\n",
    "\n",
    "    while j < len(right):\n",
    "        result = pd.concat([result, right.iloc[[j]]], ignore_index=True)\n",
    "        j += 1\n",
    "\n",
    "    return result"
   ]
  },
  {
   "cell_type": "code",
   "execution_count": 4,
   "id": "a096b27f",
   "metadata": {},
   "outputs": [],
   "source": [
    "def quick_sort(df):\n",
    "    if len(df) <= 1:\n",
    "        return df\n",
    "\n",
    "    pivot = df.iloc[len(df) // 2, 0]\n",
    "\n",
    "    left = df[df.iloc[:, 0] < pivot]\n",
    "    middle = df[df.iloc[:, 0] == pivot]\n",
    "    right = df[df.iloc[:, 0] > pivot]\n",
    "\n",
    "    return pd.concat([quick_sort(left), middle, quick_sort(right)], ignore_index=True)"
   ]
  },
  {
   "cell_type": "code",
   "execution_count": 5,
   "id": "b1a52256",
   "metadata": {},
   "outputs": [],
   "source": [
    "def bubble_sort(df):\n",
    "    n = len(df)\n",
    "\n",
    "    for i in range(n):\n",
    "        swapped = False\n",
    "\n",
    "        for j in range(0, n - i - 1):\n",
    "            if df.iloc[j, 0] > df.iloc[j + 1, 0]:\n",
    "                df.iloc[j, :], df.iloc[j + 1, :] = df.iloc[j + 1, :].copy(), df.iloc[j, :].copy()\n",
    "                swapped = True\n",
    "\n",
    "        if not swapped:\n",
    "            break\n",
    "\n",
    "    return df"
   ]
  },
  {
   "cell_type": "code",
   "execution_count": 6,
   "id": "fdde68cd",
   "metadata": {},
   "outputs": [],
   "source": [
    "def count_sort(df):\n",
    "    counting_array = [0] * 11\n",
    "\n",
    "    for value in df.iloc[:, 0]:\n",
    "        counting_array[value] += 1\n",
    "\n",
    "    sorted_df = pd.DataFrame(columns=df.columns)\n",
    "\n",
    "    for i in range(1, 11):\n",
    "        sorted_df = pd.concat([sorted_df, df[df.iloc[:, 0] == i]], ignore_index=True)\n",
    "\n",
    "    return sorted_df"
   ]
  },
  {
   "cell_type": "code",
   "execution_count": 7,
   "id": "f02f0741",
   "metadata": {},
   "outputs": [],
   "source": [
    "df = pd.read_csv('data.csv')\n",
    "\n",
    "algorithms = {'Merge Sort': merge_sort, 'Quick Sort': quick_sort, 'Bubble Sort': bubble_sort, 'Count Sort': count_sort}\n",
    "data_size = {100000: df, 10000: df.head(10000), 1000: df.head(1000), 100: df.head(100)}"
   ]
  },
  {
   "cell_type": "code",
   "execution_count": 8,
   "id": "704a698c",
   "metadata": {
    "scrolled": false
   },
   "outputs": [],
   "source": [
    "# List to store individual DataFrames\n",
    "dfs = []\n",
    "\n",
    "# Loop through algorithms\n",
    "for algorithm_name, algorithm_func in algorithms.items():\n",
    "    # Loop through data sizes\n",
    "    for size, fraction in data_size.items():\n",
    "        result = measure_sorting_performance(algorithm_func, fraction)\n",
    "        df_result = pd.DataFrame(result).T\n",
    "        df_result['Algorithm'] = algorithm_name\n",
    "        df_result['Data Size'] = size\n",
    "        dfs.append(df_result)\n",
    "\n",
    "# Concatenate individual DataFrames into a single DataFrame\n",
    "results_df = pd.concat(dfs, ignore_index=True)\n",
    "results_df = results_df.rename(columns={0: 'Execution Time', 1: 'Memory Usage'})"
   ]
  },
  {
   "cell_type": "code",
   "execution_count": 10,
   "id": "5cf65c19",
   "metadata": {},
   "outputs": [],
   "source": [
    "results_df.to_csv('sorting_results.csv', index=False)"
   ]
  }
 ],
 "metadata": {
  "kernelspec": {
   "display_name": "Python 3 (ipykernel)",
   "language": "python",
   "name": "python3"
  },
  "language_info": {
   "codemirror_mode": {
    "name": "ipython",
    "version": 3
   },
   "file_extension": ".py",
   "mimetype": "text/x-python",
   "name": "python",
   "nbconvert_exporter": "python",
   "pygments_lexer": "ipython3",
   "version": "3.9.13"
  }
 },
 "nbformat": 4,
 "nbformat_minor": 5
}
